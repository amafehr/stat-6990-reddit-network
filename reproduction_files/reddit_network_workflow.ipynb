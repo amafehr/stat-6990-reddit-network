{
 "cells": [
  {
   "cell_type": "markdown",
   "metadata": {},
   "source": [
    "# Reddit (small) corpus\n",
    "\n",
    "This notebook creates a network of a small Reddit Corpus using the corpus file [downloaded through Cornell's ConvoKit library](https://convokit.cornell.edu/documentation/reddit-small.html#). This is a STAT 6990 data project.\n",
    "- Author: Ashley Fehr\n",
    "- Email: afehr@uvm.edu"
   ]
  },
  {
   "cell_type": "code",
   "execution_count": 1,
   "metadata": {},
   "outputs": [],
   "source": [
    "import copy\n",
    "import json\n",
    "import os\n",
    "\n",
    "from convokit import Corpus, download\n",
    "import network_cards\n",
    "import networkx as nx\n",
    "import numpy as np\n",
    "# from webweb import Web  # optional\n",
    "\n",
    "import convo_structure_parsing as csp"
   ]
  },
  {
   "cell_type": "code",
   "execution_count": 2,
   "metadata": {},
   "outputs": [],
   "source": [
    "# Download corpus: Only need to download the corpus one time\n",
    "\n",
    "# corpus = Corpus(download('reddit-corpus-small'))\n",
    "\n",
    "# find directory of corpus, likely in \"User/.convokit/\"\n",
    "home_dir = os.path.expanduser('~')\n",
    "file_path = home_dir + '/.convokit/downloads/reddit-corpus-small'\n",
    "corpus = Corpus(filename=file_path)\n"
   ]
  },
  {
   "cell_type": "markdown",
   "metadata": {},
   "source": [
    "## Explore structure of data\n",
    "\n",
    "Some helpful convokit methods are shown in this section."
   ]
  },
  {
   "cell_type": "code",
   "execution_count": 3,
   "metadata": {},
   "outputs": [
    {
     "name": "stdout",
     "output_type": "stream",
     "text": [
      "Number of Speakers: 119889\n",
      "Number of Utterances: 297132\n",
      "Number of Conversations: 8286\n"
     ]
    }
   ],
   "source": [
    "corpus.print_summary_stats()"
   ]
  },
  {
   "cell_type": "code",
   "execution_count": 4,
   "metadata": {},
   "outputs": [
    {
     "name": "stdout",
     "output_type": "stream",
     "text": [
      "Aretardnamedtrevor2\n",
      "    RandomDalish\n",
      "        probably-not-a-fox\n",
      "            RandomDalish\n",
      "                wtfthecanuck\n",
      "                    RandomDalish\n",
      "            redditor_bob\n",
      "                probably-not-a-fox\n",
      "        P__Squared\n",
      "        AmyJK7110\n",
      "            RandomDalish\n",
      "                AmyJK7110\n",
      "                    RandomDalish\n"
     ]
    }
   ],
   "source": [
    "random_conv = corpus.random_conversation()\n",
    "random_conv.print_conversation_structure()"
   ]
  },
  {
   "cell_type": "code",
   "execution_count": 5,
   "metadata": {},
   "outputs": [
    {
     "data": {
      "text/plain": [
       "'/r/AskMen/comments/9ejv6x/what_is_legal_that_makes_you_ask_yourself_how_is/'"
      ]
     },
     "execution_count": 5,
     "metadata": {},
     "output_type": "execute_result"
    }
   ],
   "source": [
    "random_conv.get_chronological_utterance_list()[0].meta['permalink']"
   ]
  },
  {
   "cell_type": "code",
   "execution_count": 6,
   "metadata": {},
   "outputs": [],
   "source": [
    "# 2 different conversations sharing at least 1 user who commented in both\n",
    "# These were used to test the network curation.\n",
    "\n",
    "conv = corpus.get_conversation('9fio59')\n",
    "conv2 = corpus.get_conversation('9gthts')"
   ]
  },
  {
   "cell_type": "code",
   "execution_count": 7,
   "metadata": {},
   "outputs": [
    {
     "name": "stdout",
     "output_type": "stream",
     "text": [
      "anobuzz\n",
      "    monkeymamo\n",
      "        GuiltyGear\n",
      "            nathan8999\n",
      "        dinosuma\n",
      "        Alib902\n",
      "        DonLaFontainesGhost\n",
      "            im_a_dr_not_\n",
      "                nathan8999\n",
      "                    draekia\n",
      "                        T-51bender\n",
      "    laughingwarlock\n",
      "        miketdavis\n",
      "            troubleondemand\n",
      "                ihsw\n",
      "                    miketdavis\n",
      "                three18ti\n",
      "                    JOKasten\n",
      "                        BenCelotil\n",
      "            newsmana\n",
      "                ConstitutionCrisisUS\n",
      "                mOdQuArK\n",
      "                    miketdavis\n",
      "                        mOdQuArK\n",
      "            Yider\n",
      "                Rdudek\n",
      "                    miketdavis\n",
      "        B0B_Spldbckwrds\n",
      "            vaelroth\n",
      "            ngroot\n",
      "        MDKAOD\n",
      "            mindbleach\n",
      "                saucy_mcsaucy_pants\n",
      "                    mindbleach\n",
      "                        saucy_mcsaucy_pants\n",
      "                            Griff-And-Or\n",
      "                                saucy_mcsaucy_pants\n",
      "                                    Griff-And-Or\n",
      "                                        saucy_mcsaucy_pants\n",
      "                                            Griff-And-Or\n",
      "        Forkems\n",
      "            Spacct\n",
      "            linguotgr\n",
      "        zydeco\n",
      "        nukem996\n",
      "        BumbleFuckDuck\n",
      "        -Cromm-\n",
      "            hobofats\n",
      "        colemanthor\n",
      "            bencedubois26\n",
      "    HobbyHobs\n",
      "        PlatypusOfWallStreet\n",
      "            Honest-Ape\n",
      "                BRUTALLEEHONEST\n",
      "            coldhorcrux101\n",
      "        saffir\n",
      "            mattkerle\n",
      "            DonLaFontainesGhost\n",
      "                thorndike\n",
      "                    spboss91\n",
      "            HobbyHobs\n",
      "        txstoploss\n",
      "        skydivingdutch\n",
      "            HobbyHobs\n",
      "                Rodec\n",
      "            joec_95123\n",
      "        rayx\n",
      "            HobbyHobs\n",
      "        GrumpyAlien\n",
      "    deeperest\n",
      "        squealteam\n",
      "            Quaglar\n",
      "                b3hr\n",
      "                JBlitzen\n",
      "                BatMally\n",
      "            f0rtytw0\n",
      "            timultuoustimes\n",
      "        bnyc\n",
      "        nukem996\n",
      "            nathan8999\n",
      "        Nicolay77\n",
      "            -Cromm-\n",
      "                Nicolay77\n",
      "    patssle\n",
      "        kevin_m_fischer\n",
      "            Alib902\n",
      "                kevin_m_fischer\n",
      "                    Alib902\n",
      "                        kevin_m_fischer\n",
      "                    im_a_dr_not_\n",
      "                        kevin_m_fischer\n",
      "                JohnStamosBRAH\n",
      "                    Alib902\n",
      "            jjake101\n",
      "        DonLaFontainesGhost\n",
      "        nathan8999\n"
     ]
    }
   ],
   "source": [
    "conv.print_conversation_structure()"
   ]
  },
  {
   "cell_type": "code",
   "execution_count": 8,
   "metadata": {},
   "outputs": [
    {
     "data": {
      "text/plain": [
       "'/r/business/comments/9fio59/this_is_why_piracy_exists/'"
      ]
     },
     "execution_count": 8,
     "metadata": {},
     "output_type": "execute_result"
    }
   ],
   "source": [
    "conv.get_chronological_utterance_list()[0].meta['permalink']"
   ]
  },
  {
   "cell_type": "markdown",
   "metadata": {},
   "source": [
    "### Important meta information\n",
    "- all objects have: `object.id`, `object.print_object_stats()`\n",
    "- `Conversation.meta`: `title`, `num_comments`, `domain` (website), `timestamp`, `subreddit`\n",
    "    - `conv.id`, `conv.to_dict()`\n",
    "- `Utterance.meta`: `score`, `top_level_comment` (id), `subreddit`, `permalink`\n",
    "    - `utt.text`, `utt.conversation_id`, `utt.speaker`, `utt.reply_to` (utt.id of the comment it is in reply to), `utt.to_dict()`\n",
    "- `Speaker.meta`: `num_posts`, `num_comments`\n",
    "    - `speaker.id`, `speaker.to_dict()`"
   ]
  },
  {
   "cell_type": "code",
   "execution_count": 9,
   "metadata": {},
   "outputs": [
    {
     "data": {
      "text/plain": [
       "[['anobuzz',\n",
       "  'monkeymamo',\n",
       "  'DonLaFontainesGhost',\n",
       "  'im_a_dr_not_',\n",
       "  'nathan8999',\n",
       "  'draekia',\n",
       "  'T-51bender'],\n",
       " ['anobuzz', 'deeperest', 'nukem996', 'nathan8999'],\n",
       " ['anobuzz', 'HobbyHobs', 'txstoploss'],\n",
       " ['anobuzz', 'laughingwarlock', '-Cromm-', 'hobofats'],\n",
       " ['anobuzz', 'patssle', 'DonLaFontainesGhost'],\n",
       " ['anobuzz', 'patssle', 'kevin_m_fischer', 'jjake101'],\n",
       " ['anobuzz', 'deeperest', 'Nicolay77', '-Cromm-', 'Nicolay77'],\n",
       " ['anobuzz', 'laughingwarlock', 'colemanthor', 'bencedubois26'],\n",
       " ['anobuzz', 'HobbyHobs', 'skydivingdutch', 'joec_95123'],\n",
       " ['anobuzz', 'HobbyHobs', 'skydivingdutch', 'HobbyHobs', 'Rodec'],\n",
       " ['anobuzz', 'HobbyHobs', 'saffir', 'mattkerle'],\n",
       " ['anobuzz', 'deeperest', 'squealteam', 'timultuoustimes'],\n",
       " ['anobuzz', 'laughingwarlock', 'BumbleFuckDuck'],\n",
       " ['anobuzz', 'deeperest', 'squealteam', 'f0rtytw0'],\n",
       " ['anobuzz', 'deeperest', 'squealteam', 'Quaglar', 'JBlitzen'],\n",
       " ['anobuzz',\n",
       "  'patssle',\n",
       "  'kevin_m_fischer',\n",
       "  'Alib902',\n",
       "  'kevin_m_fischer',\n",
       "  'Alib902',\n",
       "  'kevin_m_fischer'],\n",
       " ['anobuzz', 'laughingwarlock', 'miketdavis', 'Yider', 'Rdudek', 'miketdavis'],\n",
       " ['anobuzz', 'laughingwarlock', 'zydeco'],\n",
       " ['anobuzz',\n",
       "  'laughingwarlock',\n",
       "  'miketdavis',\n",
       "  'troubleondemand',\n",
       "  'ihsw',\n",
       "  'miketdavis'],\n",
       " ['anobuzz', 'monkeymamo', 'GuiltyGear', 'nathan8999'],\n",
       " ['anobuzz', 'laughingwarlock', 'B0B_Spldbckwrds', 'vaelroth'],\n",
       " ['anobuzz', 'laughingwarlock', 'Forkems', 'linguotgr'],\n",
       " ['anobuzz',\n",
       "  'laughingwarlock',\n",
       "  'miketdavis',\n",
       "  'troubleondemand',\n",
       "  'three18ti',\n",
       "  'JOKasten',\n",
       "  'BenCelotil'],\n",
       " ['anobuzz', 'laughingwarlock', 'nukem996'],\n",
       " ['anobuzz', 'deeperest', 'bnyc'],\n",
       " ['anobuzz', 'HobbyHobs', 'rayx', 'HobbyHobs'],\n",
       " ['anobuzz', 'laughingwarlock', 'B0B_Spldbckwrds', 'ngroot'],\n",
       " ['anobuzz',\n",
       "  'laughingwarlock',\n",
       "  'miketdavis',\n",
       "  'newsmana',\n",
       "  'ConstitutionCrisisUS'],\n",
       " ['anobuzz', 'HobbyHobs', 'PlatypusOfWallStreet', 'coldhorcrux101'],\n",
       " ['anobuzz',\n",
       "  'patssle',\n",
       "  'kevin_m_fischer',\n",
       "  'Alib902',\n",
       "  'kevin_m_fischer',\n",
       "  'im_a_dr_not_',\n",
       "  'kevin_m_fischer'],\n",
       " ['anobuzz', 'monkeymamo', 'dinosuma'],\n",
       " ['anobuzz', 'deeperest', 'squealteam', 'Quaglar', 'b3hr'],\n",
       " ['anobuzz', 'monkeymamo', 'Alib902'],\n",
       " ['anobuzz',\n",
       "  'laughingwarlock',\n",
       "  'miketdavis',\n",
       "  'newsmana',\n",
       "  'mOdQuArK',\n",
       "  'miketdavis',\n",
       "  'mOdQuArK'],\n",
       " ['anobuzz',\n",
       "  'HobbyHobs',\n",
       "  'saffir',\n",
       "  'DonLaFontainesGhost',\n",
       "  'thorndike',\n",
       "  'spboss91'],\n",
       " ['anobuzz', 'HobbyHobs', 'saffir', 'HobbyHobs'],\n",
       " ['anobuzz', 'patssle', 'nathan8999'],\n",
       " ['anobuzz', 'HobbyHobs', 'GrumpyAlien'],\n",
       " ['anobuzz', 'deeperest', 'squealteam', 'Quaglar', 'BatMally'],\n",
       " ['anobuzz',\n",
       "  'patssle',\n",
       "  'kevin_m_fischer',\n",
       "  'Alib902',\n",
       "  'JohnStamosBRAH',\n",
       "  'Alib902'],\n",
       " ['anobuzz',\n",
       "  'HobbyHobs',\n",
       "  'PlatypusOfWallStreet',\n",
       "  'Honest-Ape',\n",
       "  'BRUTALLEEHONEST'],\n",
       " ['anobuzz', 'laughingwarlock', 'Forkems', 'Spacct'],\n",
       " ['anobuzz',\n",
       "  'laughingwarlock',\n",
       "  'MDKAOD',\n",
       "  'mindbleach',\n",
       "  'saucy_mcsaucy_pants',\n",
       "  'mindbleach',\n",
       "  'saucy_mcsaucy_pants',\n",
       "  'Griff-And-Or',\n",
       "  'saucy_mcsaucy_pants',\n",
       "  'Griff-And-Or',\n",
       "  'saucy_mcsaucy_pants',\n",
       "  'Griff-And-Or']]"
      ]
     },
     "execution_count": 9,
     "metadata": {},
     "output_type": "execute_result"
    }
   ],
   "source": [
    "# Example of retrieving the conversation structure\n",
    "\n",
    "convo_paths = []\n",
    "for path in conv.get_root_to_leaf_paths():\n",
    "    # useful for utt.id or speaker.id\n",
    "    convo_paths.append([utt.speaker.id for utt in path])\n",
    "\n",
    "convo_paths"
   ]
  },
  {
   "cell_type": "code",
   "execution_count": 10,
   "metadata": {},
   "outputs": [
    {
     "data": {
      "text/html": [
       "<div>\n",
       "<style scoped>\n",
       "    .dataframe tbody tr th:only-of-type {\n",
       "        vertical-align: middle;\n",
       "    }\n",
       "\n",
       "    .dataframe tbody tr th {\n",
       "        vertical-align: top;\n",
       "    }\n",
       "\n",
       "    .dataframe thead th {\n",
       "        text-align: right;\n",
       "    }\n",
       "</style>\n",
       "<table border=\"1\" class=\"dataframe\">\n",
       "  <thead>\n",
       "    <tr style=\"text-align: right;\">\n",
       "      <th></th>\n",
       "      <th>timestamp</th>\n",
       "      <th>text</th>\n",
       "      <th>speaker</th>\n",
       "      <th>reply_to</th>\n",
       "      <th>conversation_id</th>\n",
       "      <th>meta.score</th>\n",
       "      <th>meta.top_level_comment</th>\n",
       "      <th>meta.retrieved_on</th>\n",
       "      <th>meta.gilded</th>\n",
       "      <th>meta.gildings</th>\n",
       "      <th>meta.subreddit</th>\n",
       "      <th>meta.stickied</th>\n",
       "      <th>meta.permalink</th>\n",
       "      <th>meta.author_flair_text</th>\n",
       "      <th>vectors</th>\n",
       "    </tr>\n",
       "    <tr>\n",
       "      <th>id</th>\n",
       "      <th></th>\n",
       "      <th></th>\n",
       "      <th></th>\n",
       "      <th></th>\n",
       "      <th></th>\n",
       "      <th></th>\n",
       "      <th></th>\n",
       "      <th></th>\n",
       "      <th></th>\n",
       "      <th></th>\n",
       "      <th></th>\n",
       "      <th></th>\n",
       "      <th></th>\n",
       "      <th></th>\n",
       "      <th></th>\n",
       "    </tr>\n",
       "  </thead>\n",
       "  <tbody>\n",
       "    <tr>\n",
       "      <th>e5xlq4a</th>\n",
       "      <td>1536878549</td>\n",
       "      <td>Not really. You can still buy it and pirate it...</td>\n",
       "      <td>nathan8999</td>\n",
       "      <td>e5ww7g5</td>\n",
       "      <td>9fio59</td>\n",
       "      <td>3</td>\n",
       "      <td>e5wouom</td>\n",
       "      <td>1539028346</td>\n",
       "      <td>0</td>\n",
       "      <td>{'gid_1': 0, 'gid_2': 0, 'gid_3': 0}</td>\n",
       "      <td>business</td>\n",
       "      <td>False</td>\n",
       "      <td>/r/business/comments/9fio59/this_is_why_piracy...</td>\n",
       "      <td></td>\n",
       "      <td>[]</td>\n",
       "    </tr>\n",
       "    <tr>\n",
       "      <th>e5xlwku</th>\n",
       "      <td>1536878704</td>\n",
       "      <td>Moral obligation to steal. Great morals.</td>\n",
       "      <td>nathan8999</td>\n",
       "      <td>e5xdtzm</td>\n",
       "      <td>9fio59</td>\n",
       "      <td>-4</td>\n",
       "      <td>e5wouom</td>\n",
       "      <td>1539028422</td>\n",
       "      <td>0</td>\n",
       "      <td>{'gid_1': 0, 'gid_2': 0, 'gid_3': 0}</td>\n",
       "      <td>business</td>\n",
       "      <td>False</td>\n",
       "      <td>/r/business/comments/9fio59/this_is_why_piracy...</td>\n",
       "      <td></td>\n",
       "      <td>[]</td>\n",
       "    </tr>\n",
       "    <tr>\n",
       "      <th>e5xlf52</th>\n",
       "      <td>1536878299</td>\n",
       "      <td>Pretty sure Apple has enough bargaining power.</td>\n",
       "      <td>nathan8999</td>\n",
       "      <td>e5x64xj</td>\n",
       "      <td>9fio59</td>\n",
       "      <td>2</td>\n",
       "      <td>e5wrmfl</td>\n",
       "      <td>1539028217</td>\n",
       "      <td>0</td>\n",
       "      <td>{'gid_1': 0, 'gid_2': 0, 'gid_3': 0}</td>\n",
       "      <td>business</td>\n",
       "      <td>False</td>\n",
       "      <td>/r/business/comments/9fio59/this_is_why_piracy...</td>\n",
       "      <td></td>\n",
       "      <td>[]</td>\n",
       "    </tr>\n",
       "    <tr>\n",
       "      <th>e5xlkxf</th>\n",
       "      <td>1536878432</td>\n",
       "      <td>Because movies are more expensive.</td>\n",
       "      <td>nathan8999</td>\n",
       "      <td>e5x1dup</td>\n",
       "      <td>9fio59</td>\n",
       "      <td>2</td>\n",
       "      <td>e5x1dup</td>\n",
       "      <td>1539028286</td>\n",
       "      <td>0</td>\n",
       "      <td>{'gid_1': 0, 'gid_2': 0, 'gid_3': 0}</td>\n",
       "      <td>business</td>\n",
       "      <td>False</td>\n",
       "      <td>/r/business/comments/9fio59/this_is_why_piracy...</td>\n",
       "      <td></td>\n",
       "      <td>[]</td>\n",
       "    </tr>\n",
       "    <tr>\n",
       "      <th>e682mbg</th>\n",
       "      <td>1537312351</td>\n",
       "      <td>Isn't what they did already illegal? That's th...</td>\n",
       "      <td>nathan8999</td>\n",
       "      <td>e66rie8</td>\n",
       "      <td>9gthts</td>\n",
       "      <td>1</td>\n",
       "      <td>e66r2s0</td>\n",
       "      <td>1539204769</td>\n",
       "      <td>0</td>\n",
       "      <td>{'gid_1': 0, 'gid_2': 0, 'gid_3': 0}</td>\n",
       "      <td>business</td>\n",
       "      <td>False</td>\n",
       "      <td>/r/business/comments/9gthts/the_techtopus_how_...</td>\n",
       "      <td></td>\n",
       "      <td>[]</td>\n",
       "    </tr>\n",
       "  </tbody>\n",
       "</table>\n",
       "</div>"
      ],
      "text/plain": [
       "          timestamp                                               text  \\\n",
       "id                                                                       \n",
       "e5xlq4a  1536878549  Not really. You can still buy it and pirate it...   \n",
       "e5xlwku  1536878704           Moral obligation to steal. Great morals.   \n",
       "e5xlf52  1536878299     Pretty sure Apple has enough bargaining power.   \n",
       "e5xlkxf  1536878432                Because movies are more expensive.    \n",
       "e682mbg  1537312351  Isn't what they did already illegal? That's th...   \n",
       "\n",
       "            speaker reply_to conversation_id meta.score  \\\n",
       "id                                                        \n",
       "e5xlq4a  nathan8999  e5ww7g5          9fio59          3   \n",
       "e5xlwku  nathan8999  e5xdtzm          9fio59         -4   \n",
       "e5xlf52  nathan8999  e5x64xj          9fio59          2   \n",
       "e5xlkxf  nathan8999  e5x1dup          9fio59          2   \n",
       "e682mbg  nathan8999  e66rie8          9gthts          1   \n",
       "\n",
       "        meta.top_level_comment meta.retrieved_on meta.gilded  \\\n",
       "id                                                             \n",
       "e5xlq4a                e5wouom        1539028346           0   \n",
       "e5xlwku                e5wouom        1539028422           0   \n",
       "e5xlf52                e5wrmfl        1539028217           0   \n",
       "e5xlkxf                e5x1dup        1539028286           0   \n",
       "e682mbg                e66r2s0        1539204769           0   \n",
       "\n",
       "                                meta.gildings meta.subreddit meta.stickied  \\\n",
       "id                                                                           \n",
       "e5xlq4a  {'gid_1': 0, 'gid_2': 0, 'gid_3': 0}       business         False   \n",
       "e5xlwku  {'gid_1': 0, 'gid_2': 0, 'gid_3': 0}       business         False   \n",
       "e5xlf52  {'gid_1': 0, 'gid_2': 0, 'gid_3': 0}       business         False   \n",
       "e5xlkxf  {'gid_1': 0, 'gid_2': 0, 'gid_3': 0}       business         False   \n",
       "e682mbg  {'gid_1': 0, 'gid_2': 0, 'gid_3': 0}       business         False   \n",
       "\n",
       "                                            meta.permalink  \\\n",
       "id                                                           \n",
       "e5xlq4a  /r/business/comments/9fio59/this_is_why_piracy...   \n",
       "e5xlwku  /r/business/comments/9fio59/this_is_why_piracy...   \n",
       "e5xlf52  /r/business/comments/9fio59/this_is_why_piracy...   \n",
       "e5xlkxf  /r/business/comments/9fio59/this_is_why_piracy...   \n",
       "e682mbg  /r/business/comments/9gthts/the_techtopus_how_...   \n",
       "\n",
       "        meta.author_flair_text vectors  \n",
       "id                                      \n",
       "e5xlq4a                             []  \n",
       "e5xlwku                             []  \n",
       "e5xlf52                             []  \n",
       "e5xlkxf                             []  \n",
       "e682mbg                             []  "
      ]
     },
     "execution_count": 10,
     "metadata": {},
     "output_type": "execute_result"
    }
   ],
   "source": [
    "# This is the user who commented in both example conversations\n",
    "speaker2 = conv2.get_speaker('nathan8999')\n",
    "\n",
    "# get all the utterances in the corpus by a particular speaker\n",
    "speaker2.get_utterances_dataframe().head()"
   ]
  },
  {
   "cell_type": "code",
   "execution_count": 11,
   "metadata": {},
   "outputs": [
    {
     "name": "stdout",
     "output_type": "stream",
     "text": [
      "Checking reply-to chain of Conversation 9fio59\n",
      "No issues found.\n",
      "\n",
      "Checking reply-to chain of Conversation 9gthts\n",
      "No issues found.\n",
      "\n"
     ]
    },
    {
     "data": {
      "text/plain": [
       "(True, True)"
      ]
     },
     "execution_count": 11,
     "metadata": {},
     "output_type": "execute_result"
    }
   ],
   "source": [
    "# Check conversation integrity for a complete reply-to chain\n",
    "# (from conversation id root to leaves)\n",
    "\n",
    "conv.check_integrity(), conv2.check_integrity()"
   ]
  },
  {
   "cell_type": "code",
   "execution_count": 12,
   "metadata": {},
   "outputs": [
    {
     "name": "stdout",
     "output_type": "stream",
     "text": [
      "Number of Speakers: 100\n",
      "Number of Utterances: 155\n",
      "Number of Conversations: 2\n"
     ]
    }
   ],
   "source": [
    "# Combine conversations into a list of Utterance objects\n",
    "test_list_utterances = list(conv.iter_utterances()) + list(conv2.iter_utterances())\n",
    "\n",
    "# Create a new Corpus object\n",
    "new_corpus = Corpus(utterances=test_list_utterances)\n",
    "\n",
    "new_corpus.print_summary_stats()"
   ]
  },
  {
   "cell_type": "markdown",
   "metadata": {},
   "source": [
    "## Network Creation\n",
    "To potentially support different research lens and ability to facilitate a network card, I will create the network in two ways:\n",
    "1) as a MultiDiGraph\n",
    "2) as a weighted DiGraph"
   ]
  },
  {
   "cell_type": "markdown",
   "metadata": {},
   "source": [
    "### Multi-graph"
   ]
  },
  {
   "cell_type": "code",
   "execution_count": null,
   "metadata": {},
   "outputs": [],
   "source": [
    "G = csp.parse_reddit_convo_structure(new_corpus)\n",
    "G.size()"
   ]
  },
  {
   "cell_type": "code",
   "execution_count": 14,
   "metadata": {},
   "outputs": [
    {
     "data": {
      "image/png": "[encoded data removed]",
      "text/plain": [
       "<Figure size 640x480 with 1 Axes>"
      ]
     },
     "metadata": {},
     "output_type": "display_data"
    }
   ],
   "source": [
    "# Demonstrative structure from 2 conversations linked by one user replying to both\n",
    "\n",
    "# conditionally create a dictionary of labels for nodes\n",
    "users = ['nathan8999']\n",
    "labels = {labels: labels for labels in G.nodes() if labels in users}\n",
    "\n",
    "# To view directionality with the small example.\n",
    "nx.draw_kamada_kawai(\n",
    "    G,\n",
    "    node_size=25,\n",
    "    with_labels=True, labels=labels, font_color='red', font_size=11)"
   ]
  },
  {
   "cell_type": "code",
   "execution_count": 15,
   "metadata": {},
   "outputs": [],
   "source": [
    "# A better illustration of the example using webweb, but\n",
    "# lacking directionality (see saved svg file)\n",
    "\n",
    "# web = Web(nx_G=G, title=\"Small Reddit Corpus Example\")\n",
    "# web.show()"
   ]
  },
  {
   "cell_type": "code",
   "execution_count": null,
   "metadata": {},
   "outputs": [],
   "source": [
    "# full MultiDiGraph network using parsing script\n",
    "full_network = csp.parse_reddit_convo_structure(corpus)\n",
    "full_network.size()"
   ]
  },
  {
   "cell_type": "code",
   "execution_count": 16,
   "metadata": {},
   "outputs": [
    {
     "data": {
      "text/plain": [
       "[('littlefiredragon',\n",
       "  'belmont_lay',\n",
       "  {'convo_id': '9c716m',\n",
       "   'utt_id': 'e594xde',\n",
       "   'utt_text': 'His \"candid\" pics look better leh',\n",
       "   'utt_speaker': 'littlefiredragon',\n",
       "   'utt_timestamp': 1535866404,\n",
       "   'utt_score': 1}),\n",
       " ('belmont_lay',\n",
       "  'littlefiredragon',\n",
       "  {'convo_id': '9c716m',\n",
       "   'utt_id': 'e594y7f',\n",
       "   'utt_text': 'wat.. he looks like a random extra in a JAV',\n",
       "   'utt_speaker': 'belmont_lay',\n",
       "   'utt_timestamp': 1535866436,\n",
       "   'utt_score': -3})]"
      ]
     },
     "execution_count": 16,
     "metadata": {},
     "output_type": "execute_result"
    }
   ],
   "source": [
    "list(full_network.edges(data=True))[:2]"
   ]
  },
  {
   "cell_type": "code",
   "execution_count": 17,
   "metadata": {},
   "outputs": [
    {
     "data": {
      "text/plain": [
       "[('littlefiredragon',\n",
       "  {'num_comments': 1, 'num_posts': 0, 'subreddits': ['singapore']}),\n",
       " ('belmont_lay',\n",
       "  {'num_comments': 9, 'num_posts': 0, 'subreddits': ['singapore']}),\n",
       " ('rheinl', {'num_comments': 14, 'num_posts': 0, 'subreddits': ['singapore']}),\n",
       " ('sea_lecture',\n",
       "  {'num_comments': 7,\n",
       "   'num_posts': 0,\n",
       "   'subreddits': ['singapore', 'Guildwars2', 'aww']}),\n",
       " ('deleted_speaker_0', {}),\n",
       " ('tauhuayislove',\n",
       "  {'num_comments': 5, 'num_posts': 0, 'subreddits': ['singapore']}),\n",
       " ('brianne0007',\n",
       "  {'num_comments': 11, 'num_posts': 0, 'subreddits': ['singapore']}),\n",
       " ('ThenPoem',\n",
       "  {'num_comments': 5, 'num_posts': 0, 'subreddits': ['singapore']}),\n",
       " ('Eskipony',\n",
       "  {'num_comments': 4, 'num_posts': 0, 'subreddits': ['singapore']}),\n",
       " ('RedFaceGeneral',\n",
       "  {'num_comments': 3, 'num_posts': 0, 'subreddits': ['singapore', 'Games']})]"
      ]
     },
     "execution_count": 17,
     "metadata": {},
     "output_type": "execute_result"
    }
   ],
   "source": [
    "list(full_network.nodes(data=True))[:10]"
   ]
  },
  {
   "cell_type": "markdown",
   "metadata": {},
   "source": [
    "### Weighted Di-graph"
   ]
  },
  {
   "cell_type": "code",
   "execution_count": null,
   "metadata": {},
   "outputs": [],
   "source": [
    "# Netword cards are not implemented for MultiGraph types, so this card will\n",
    "# provide the DiGraph type of the network.\n",
    "\n",
    "full_di_network = csp.parse_reddit_convo_structure_digraph(corpus)"
   ]
  },
  {
   "cell_type": "code",
   "execution_count": 20,
   "metadata": {},
   "outputs": [
    {
     "data": {
      "text/plain": [
       "[('littlefiredragon', 'belmont_lay', {'weight': 1}),\n",
       " ('belmont_lay', 'littlefiredragon', {'weight': 1}),\n",
       " ('belmont_lay', 'rheinl', {'weight': 6}),\n",
       " ('belmont_lay', 'sea_lecture', {'weight': 4}),\n",
       " ('belmont_lay', 'zhangsnow', {'weight': 2}),\n",
       " ('belmont_lay', 'KeythKatz', {'weight': 1}),\n",
       " ('belmont_lay', 'stereopaper', {'weight': 2}),\n",
       " ('belmont_lay', 'bobo_chacha', {'weight': 3}),\n",
       " ('rheinl', 'belmont_lay', {'weight': 4}),\n",
       " ('rheinl', 'janqn', {'weight': 1})]"
      ]
     },
     "execution_count": 20,
     "metadata": {},
     "output_type": "execute_result"
    }
   ],
   "source": [
    "list(full_di_network.edges(data=True))[:10]"
   ]
  },
  {
   "cell_type": "markdown",
   "metadata": {},
   "source": [
    "## Save data to network format"
   ]
  },
  {
   "cell_type": "code",
   "execution_count": 22,
   "metadata": {},
   "outputs": [
    {
     "data": {
      "text/plain": [
       "(278846, 121215, 212678, 121215)"
      ]
     },
     "execution_count": 22,
     "metadata": {},
     "output_type": "execute_result"
    }
   ],
   "source": [
    "nx.write_gml(full_network, \"../reddit_small_corpus_network_multigraph.gml.gz\")\n",
    "nx.write_gml(full_di_network, \"../reddit_small_corpus_network_digraph.gml.gz\")\n",
    "\n",
    "# Verify the save file\n",
    "M = nx.read_gml(\"../reddit_small_corpus_network_multigraph.gml.gz\")\n",
    "D = nx.read_gml(\"../reddit_small_corpus_network_digraph.gml.gz\")\n",
    "\n",
    "M.size(), len(M.nodes()), D.size(), len(D.nodes())"
   ]
  },
  {
   "cell_type": "markdown",
   "metadata": {},
   "source": [
    "## Generate [Network Card](https://github.com/network-cards/network-cards)"
   ]
  },
  {
   "cell_type": "code",
   "execution_count": 5,
   "metadata": {},
   "outputs": [
    {
     "name": "stdout",
     "output_type": "stream",
     "text": [
      "                   Name                         \n",
      "                   Kind       Directed, weighted\n",
      "              Nodes are                         \n",
      "              Links are                         \n",
      "       Link weights are                         \n",
      "         Considerations                         \n",
      "        Number of nodes                   121215\n",
      "        Number of links 212678 (1087 self-loops)\n",
      "--- Bidirectional links                    19.6%\n",
      "      Degree (in/out)^1         1.75455 [0, 448]\n",
      "             Degree^2^1          3.5091 [1, 449]\n",
      "             Clustering                   0.0344\n",
      "              Connected             Disconnected\n",
      " Assortativity (degree)                  -0.0477\n",
      "          Node metadata                         \n",
      "          Link metadata                         \n",
      "       Date of creation                         \n",
      "Data generating process                         \n",
      "                 Ethics                         \n",
      "                Funding                         \n",
      "               Citation                         \n",
      "                 Access                         \n",
      "\n",
      "^1: Distributions summarized with average [min, max].\n",
      "^2: Undirected.\n"
     ]
    }
   ],
   "source": [
    "# Make DiGraph card first so that the MultiGraph card can be updated from it\n",
    "card = network_cards.NetworkCard(full_di_network)\n",
    "print(card)"
   ]
  },
  {
   "cell_type": "code",
   "execution_count": 6,
   "metadata": {},
   "outputs": [
    {
     "name": "stdout",
     "output_type": "stream",
     "text": [
      "                   Name                                                    Small Reddit Corpus Network\n",
      "                   Kind                                                             Directed, weighted\n",
      "              Nodes are                                                             Users (Speaker ID)\n",
      "              Links are                                               Replies from one user to another\n",
      "       Link weights are                                                                               \n",
      "         Considerations                  This corpus is a sample of highly active subreddits from 2018\n",
      "        Number of nodes                                                                         121215\n",
      "        Number of links                                                       212678 (1087 self-loops)\n",
      "--- Bidirectional links                                                                          19.6%\n",
      "      Degree (in/out)^1                                                               1.75455 [0, 448]\n",
      "             Degree^2^1                                                                3.5091 [1, 449]\n",
      "             Clustering                                                                         0.0344\n",
      "              Connected                                                                   Disconnected\n",
      " Assortativity (degree)                                                                        -0.0477\n",
      "          Node metadata        Number of user posts and comments from user, subreddits participated in\n",
      "          Link metadata                            weight (number of replies from one user to another)\n",
      "       Date of creation                                          source data: 2018, network data: 2024\n",
      "Data generating process The corpus was downloaded from Cornell's ConvoKit and processed with NetworkX.\n",
      "                 Ethics                                                                            n/a\n",
      "                Funding                                                                           None\n",
      "               Citation                          Pushshift.io (2018) and ConvoKit (Chang et al., 2020)\n",
      "                 Access                  https://convokit.cornell.edu/documentation/reddit-small.html#\n",
      "\n",
      "^1: Distributions summarized with average [min, max].\n",
      "^2: Undirected.\n"
     ]
    }
   ],
   "source": [
    "card.update_overall(\"Name\", \"Small Reddit Corpus Network\")\n",
    "card.update_overall(\"Nodes are\", \"Users (Speaker ID)\")\n",
    "card.update_overall(\"Links are\", \"Replies from one user to another\")\n",
    "card.update_overall(\"Considerations\", \"This corpus is a sample of highly active subreddits from 2018\")\n",
    "\n",
    "card.update_metainfo({\n",
    "    \"Node metadata\":           \"Number of user posts and comments from user, subreddits participated in\",\n",
    "    \"Link metadata\":           \"weight (number of replies from one user to another)\",\n",
    "    # this is link metadata for the multigraph\n",
    "    # \"Link metadata\":           \"Conversation ID, Utterance ID, text, Speaker ID, UNIX timestamp, and upvote score\",\n",
    "    \"Date of creation\":        \"source data: 2018, network data: 2024\",\n",
    "    \"Data generating process\": \"The corpus was downloaded from Cornell's ConvoKit and processed with NetworkX.\",\n",
    "    \"Funding\":                 \"None\",\n",
    "    \"Citation\":                \"Pushshift.io (2018) and ConvoKit (Chang et al., 2020)\",\n",
    "    \"Ethics\":                  \"n/a\",\n",
    "    'Access':                  \"https://convokit.cornell.edu/documentation/reddit-small.html#\",\n",
    "    })\n",
    "\n",
    "print(card)"
   ]
  },
  {
   "cell_type": "code",
   "execution_count": 71,
   "metadata": {},
   "outputs": [],
   "source": [
    "# adapt from networks-cards code as multigraphs cannot be processed automatically (Bagrow & Ahn, 2022)\n",
    "\n",
    "def count_bidirectional_links(G):\n",
    "    num_directed_links = G.size()\n",
    "    undirected_links = {tuple(sorted(ij)) for ij in G.edges()}\n",
    "    num_bidirectional_links = num_directed_links - len(undirected_links)\n",
    "\n",
    "    return f\"{100*num_bidirectional_links/num_directed_links:.3g}%\"\n",
    "\n",
    "def summarize(values):\n",
    "    return f\"{np.mean(values):g} [{min(values)}, {max(values)}]\"\n",
    "\n",
    "def count_degrees(G):\n",
    "    degs_un = [k for _,k in G.degree()]\n",
    "    degs_in = [k for _,k in G.in_degree()] # mean in/out degree same\n",
    "    # degree-in/out, degree\n",
    "    return (summarize(degs_in), summarize(degs_un))"
   ]
  },
  {
   "cell_type": "code",
   "execution_count": 77,
   "metadata": {},
   "outputs": [
    {
     "name": "stdout",
     "output_type": "stream",
     "text": [
      "                   Name                                                       Small Reddit Corpus Network\n",
      "                   Kind                                                   Directed multigraph, unweighted\n",
      "              Nodes are                                                                Users (Speaker ID)\n",
      "              Links are                              Replies from one user to another (key: utterance ID)\n",
      "       Link weights are                                                                                  \n",
      "         Considerations                     This corpus is a sample of highly active subreddits from 2018\n",
      "        Number of nodes                                                                            121215\n",
      "        Number of links                                                                            278846\n",
      "--- Bidirectional links                                                                             38.7%\n",
      "      Degree (in/out)^1                                                                  2.30042 [0, 560]\n",
      "               Degree^2                                                                 4.60085 [1, 1305]\n",
      "             Clustering                                                                                  \n",
      "              Connected                                                                      Disconnected\n",
      " Assortativity (degree)                                                                             0.606\n",
      "          Node metadata           Number of user posts and comments from user, subreddits participated in\n",
      "          Link metadata Conversation ID, Utterance ID, text, Speaker ID, UNIX timestamp, and upvote score\n",
      "       Date of creation                                             source data: 2018, network data: 2024\n",
      "Data generating process    The corpus was downloaded from Cornell's ConvoKit and processed with NetworkX.\n",
      "                 Ethics                                                                               n/a\n",
      "                Funding                                                                              None\n",
      "               Citation                             Pushshift.io (2018) and ConvoKit (Chang et al., 2020)\n",
      "                 Access                     https://convokit.cornell.edu/documentation/reddit-small.html#\n",
      "\n",
      "^1: Distributions summarized with average [min, max].\n",
      "^2: Undirected.\n"
     ]
    }
   ],
   "source": [
    "# custom network card for the MultiGraph network\n",
    "card_mdg = copy.deepcopy(card)\n",
    "\n",
    "card_mdg.update_overall({\n",
    "    \"Kind\": \"Directed multigraph, unweighted\",\n",
    "    \"Links are\": \"Replies from one user to another (key: utterance ID)\",\n",
    "})\n",
    "\n",
    "deg_in_out, degree = count_degrees(full_network)\n",
    "card_mdg.update_structure({\n",
    "    \"Number of links\": full_network.size(),\n",
    "    \"--- Bidirectional links\": count_bidirectional_links(full_network),\n",
    "    \"Degree (in/out)\": deg_in_out,\n",
    "    \"Degree\": degree,\n",
    "    \"Clustering\": \"\",  # cannot calculate using nx\n",
    "    \"Assortativity (degree)\": nx.degree_assortativity_coefficient(full_network)\n",
    "})\n",
    "\n",
    "card_mdg.update_metainfo({\n",
    "    \"Link metadata\": \"Conversation ID, Utterance ID, text, Speaker ID, UNIX timestamp, and upvote score\",\n",
    "})\n",
    "\n",
    "card_mdg.add_footnote_structure(\"Degree (in/out)\", \"Distributions summarized with average [min, max].\")\n",
    "card_mdg.add_footnote_structure(\"Degree\", \"Undirected.\")\n",
    "print(card_mdg)"
   ]
  },
  {
   "cell_type": "code",
   "execution_count": 7,
   "metadata": {},
   "outputs": [],
   "source": [
    "# dump as nicely formatted JSON\n",
    "\n",
    "with open('../network_card_multigraph.json', 'w') as f:\n",
    "    json.dump(card_mdg.to_dict(), f, indent=4)\n",
    "\n",
    "with open('../network_card_digraph.json', 'w') as f:\n",
    "    json.dump(card.to_dict(), f, indent=4)"
   ]
  },
  {
   "cell_type": "code",
   "execution_count": null,
   "metadata": {},
   "outputs": [],
   "source": []
  }
 ],
 "metadata": {
  "kernelspec": {
   "display_name": "dsci_env",
   "language": "python",
   "name": "python3"
  },
  "language_info": {
   "codemirror_mode": {
    "name": "ipython",
    "version": 3
   },
   "file_extension": ".py",
   "mimetype": "text/x-python",
   "name": "python",
   "nbconvert_exporter": "python",
   "pygments_lexer": "ipython3",
   "version": "3.12.0"
  }
 },
 "nbformat": 4,
 "nbformat_minor": 2
}
